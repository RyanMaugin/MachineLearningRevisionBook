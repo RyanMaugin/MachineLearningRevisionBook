{
 "cells": [
  {
   "cell_type": "markdown",
   "metadata": {
    "ein.tags": "worksheet-0",
    "slideshow": {
     "slide_type": "-"
    }
   },
   "source": [
    "# Chapter 3: Forward Propagation\n",
    "\n",
    "In this chapter of the book, I learn how to implement basic forward propagration on a shallow neural network using python."
   ]
  },
  {
   "cell_type": "code",
   "execution_count": 11,
   "metadata": {
    "autoscroll": false,
    "collapsed": false,
    "ein.hycell": false,
    "ein.tags": "worksheet-0",
    "slideshow": {
     "slide_type": "-"
    }
   },
   "outputs": [],
   "source": [
    "\n",
    "# Network weight\n",
    "weight = 0.1\n",
    "\n",
    "# Define a neural network with only 1 input, weight and output\n",
    "def neural_network(input, weight):\n",
    "    prediction = input * weight\n",
    "    return prediction"
   ]
  },
  {
   "cell_type": "markdown",
   "metadata": {
    "ein.tags": "worksheet-0",
    "slideshow": {
     "slide_type": "-"
    }
   },
   "source": [
    "Once we created our very trivial neural network with one layer and one weight that essentially looks like this:\n",
    "\n",
    "`input -> weight (0.1) -> output (prediction)`\n",
    "\n",
    "We pass in one input into the network and print out the prediction it spits out."
   ]
  },
  {
   "cell_type": "code",
   "execution_count": 13,
   "metadata": {
    "autoscroll": false,
    "collapsed": false,
    "ein.hycell": false,
    "ein.tags": "worksheet-0",
    "slideshow": {
     "slide_type": "-"
    }
   },
   "outputs": [
    {
     "name": "stdout",
     "output_type": "stream",
     "text": [
      "0.25\n"
     ]
    }
   ],
   "source": [
    "# Test the neural network on one input\n",
    "number_of_toes = [2.5, 4.5, 6, 8] \n",
    "input = number_of_toes[0]\n",
    "pred = neural_network(input, weight)\n",
    "print(pred)"
   ]
  },
  {
   "cell_type": "markdown",
   "metadata": {
    "ein.tags": "worksheet-0",
    "slideshow": {
     "slide_type": "-"
    }
   },
   "source": [
    "The examples above are very trivial examples that show you how a neural network is used to make predictions.\n",
    "For now this one layered neural network is doing nothing more than multiplying out input by one or more weights to make a prediction.\n",
    "\n",
    "Let's define what we really mean by an `input`, `weight` and `prediction`:\n",
    "\n",
    "**What is an `input`?**\n",
    "\n",
    "An input is an easily observable and collectable piece of data from the real world (or even virtual depending on application).\n",
    "An example of this could be the number of rooms in a house or the temperature today.\n",
    "\n",
    "**What is a `prediction`?**\n",
    "\n",
    "A prediction is what the neural network tells us given our input. An example of this could be the probability that it will rain tomorrow\n",
    "based on the number of times it has rained this week. Another example could be predicting house prices given the size of the house and number\n",
    "of rooms.\n",
    "\n",
    "Predictions can come in many forms such as probability **0% - 100%**, classification **yes or no**, **cat or dog**, continuous (regression)\n",
    "**-infinity to +infintity**.\n",
    "\n",
    "** Let's now try what we did before but for 3 features: **"
   ]
  },
  {
   "cell_type": "code",
   "execution_count": 20,
   "metadata": {
    "autoscroll": false,
    "collapsed": false,
    "ein.hycell": false,
    "ein.tags": "worksheet-0",
    "slideshow": {
     "slide_type": "-"
    }
   },
   "outputs": [
    {
     "name": "stdout",
     "output_type": "stream",
     "text": [
      "Prediction: 0.9800000000000001\n"
     ]
    }
   ],
   "source": [
    "\n",
    "# Create the mock dataset\n",
    "toes  = [8.5, 9.5, 9.9, 9.0]     # Average number of toes in team\n",
    "wlrec = [0.65, 0.8, 0.8, 0.9] # Win/Loss record\n",
    "nfans = [1.2, 1.3, 0.5, 1.0]  # number of fans in millions\n",
    "\n",
    "# Sums the result of multiplying the 3 inputs by the 3 weights in network \n",
    "def sum_weights(inputs, weights):\n",
    "\n",
    "    # Check if input vector length is same as weights\n",
    "    assert(len(inputs) == len(weights))\n",
    "\n",
    "    # Perform a weighted sum of the inputs and return the sum\n",
    "    output = 0\n",
    "    for i in range(len(inputs)):\n",
    "        output += (inputs[i] * weights[i])\n",
    "    return output\n",
    "\n",
    "# Neural network which takes in inputs and weight variables and outputs prediction\n",
    "def neural_network(inputs, weights):\n",
    "    prediction = sum_weights(inputs, weights)\n",
    "    return prediction\n",
    "\n",
    "# Pass inputs and weights to network to get prediction\n",
    "inputs  = [toes[0], wlrec[0], nfans[0]]\n",
    "weights = [0.1, 0.2, 0]\n",
    "prediction = neural_network(inputs, weights)\n",
    "\n",
    "print(\"Prediction: {}\".format(prediction))\n"
   ]
  },
  {
   "cell_type": "markdown",
   "metadata": {
    "ein.tags": "worksheet-0",
    "slideshow": {
     "slide_type": "-"
    }
   },
   "source": [
    "\n",
    "### Challenge: Vector Maths\n",
    "\n",
    "Can you write the following functions:\n",
    "\n",
    "```\n",
    "def elementwise_multiplication(vec_a, vec_b)\n",
    "def vector_sum(vec_a)\n",
    "\n",
    "def elementwise_addtion(vec_a, vec_b)\n",
    "def vector_average(vec_a)\n",
    "```\n",
    "\n",
    "Then see if you can use two of these functions to perform a dot product.\n",
    "\n",
    "**Note: I'm aware of numpy but this is not meant to be a numpy implementation.**\n"
   ]
  },
  {
   "cell_type": "code",
   "execution_count": 32,
   "metadata": {
    "autoscroll": false,
    "collapsed": false,
    "ein.hycell": false,
    "ein.tags": "worksheet-0",
    "slideshow": {
     "slide_type": "-"
    }
   },
   "outputs": [
    {
     "name": "stdout",
     "output_type": "stream",
     "text": [
      "Elementwise Multiplication: [4, 10, 18]\n",
      "Vector Summation: 6\n",
      "Elementwise Addition: [5, 7, 9]\n",
      "Vector Average: 2.0\n"
     ]
    }
   ],
   "source": [
    "\n",
    "# Performs elementwise vecto multiplication on two vectors\n",
    "def elementwise_multiplication(vec_a, vec_b):\n",
    "    output = []\n",
    "    for x in range(len(vec_a)):\n",
    "        output.append(vec_a[x] * vec_b[x])\n",
    "    return output\n",
    "\n",
    "# Returns the sum of a vector\n",
    "def vector_sum(vec_a):\n",
    "    return sum(vec_a)\n",
    "\n",
    "# Performs elementwise addition on two vectors\n",
    "def elementwise_addition(vec_a, vec_b):\n",
    "    output = []\n",
    "    for x in range(len(vec_a)):\n",
    "        output.append(vec_a[x] + vec_b[x])\n",
    "    return output\n",
    "\n",
    "# Gets the average of a vector\n",
    "def vector_average(vec_a):\n",
    "    return (sum(vec_a) / len(vec_a))\n",
    "\n",
    "a = [1, 2, 3]\n",
    "b = [4, 5, 6]\n",
    "\n",
    "print(\"Elementwise Multiplication: {}\".format(elementwise_multiplication(a, b)))\n",
    "print(\"Vector Summation: {}\".format(vector_sum(a)))\n",
    "print(\"Elementwise Addition: {}\".format(elementwise_addition(a, b)))\n",
    "print(\"Vector Average: {}\".format(vector_average(a)))\n"
   ]
  },
  {
   "cell_type": "markdown",
   "metadata": {
    "ein.tags": "worksheet-0",
    "slideshow": {
     "slide_type": "-"
    }
   },
   "source": [
    "### A little more on vectors\n",
    "\n",
    "- The order in which the input and weight vectors are given matters. This is because `input[1]` and `weight[0]` relate to eachother as\n",
    "`weight[0]` is the scaler (knowledge) of `input[0]` (information). Therefore, when performing any elementwise operation such as weighted sum\n",
    "order of your vectors will matter.\n",
    "\n",
    "\n",
    "- You can describe your weights with a series of **AND**, **OR** and **NOT** operations. These can describe what your weights are doing to the input you are giving it:\n",
    "\n",
    "   - Weight = 0 means input is ignored and Contributes Nothing.\n",
    "   - Weight = 1 means we do nothing to the input.\n",
    "   - Weight > 1 means we increase the impact this input.\n",
    "   - Weight < 0 means we want to either turn negative input positive or decrease impact of positive weight.\n",
    "\n",
    "In all these instances we are simply scaling our inputs but these have different meaning and effects on our networks final prediction.\n",
    "\n",
    "\n",
    "### Neural Network With Multiple Inputs & Multiple Outputs\n",
    "\n",
    "Let's now create a network with multiple inputs and multiple outputs.\n",
    "\n",
    "The following network takes in 3 inputs and will produce 3 outputs.\n"
   ]
  },
  {
   "cell_type": "code",
   "execution_count": 34,
   "metadata": {
    "autoscroll": false,
    "collapsed": false,
    "ein.hycell": false,
    "ein.tags": "worksheet-0",
    "slideshow": {
     "slide_type": "-"
    }
   },
   "outputs": [
    {
     "name": "stdout",
     "output_type": "stream",
     "text": [
      "Prediction: [0.555, 0.9800000000000001, 0.9650000000000001]\n"
     ]
    }
   ],
   "source": [
    "\n",
    "# Define the dataset, weights matrix and input vector\n",
    "\n",
    "toes  = [8.5, 9.5, 9.9, 9.0]  # Average number of toes in team\n",
    "wlrec = [0.65, 0.8, 0.8, 0.9] # Win/Loss record\n",
    "nfans = [1.2, 1.3, 0.5, 1.0]  # number of fans in millions\n",
    "\n",
    "weights = [ [0.1, 0.1, -0.3],  # Weights for 'hurt' prediction (top node)\n",
    "            [0.1, 0.2,  0.0],  # Weights for 'win' prediction (middle node) \n",
    "            [0.0, 1.3,  0.1] ] # Weights for 'sad' prediction (bottom node)\n",
    "\n",
    "input = [toes[0], wlrec[0], nfans[0]]\n",
    "\n",
    "# Funtion that gets the weighted sum of a node\n",
    "def weighted_sum(input, weights):\n",
    "\n",
    "    # Make sure that the input is the same shape as weight\n",
    "    assert(len(input) == len(weights))\n",
    "\n",
    "    # Get the weighted sum of the input and return it\n",
    "    output = 0\n",
    "    for x in range(len(input)):\n",
    "        output += (input[x] * weights[x])\n",
    "    return output\n",
    "\n",
    "# Function that multiplies input vec by weight vec in matrix to output prediction vec\n",
    "def vec_mat_mul(input_vec, weight_mat):\n",
    "\n",
    "    # Make sure input vec is same shape as weight matrix in terms of cols\n",
    "    assert(len(input_vec) == len(weight_mat))\n",
    "\n",
    "    # Gets the weighted sum of the input vector and returns it\n",
    "    output = []\n",
    "    for x in range(len(input_vec)):\n",
    "        output.append(weighted_sum(input_vec, weight_mat[x]))\n",
    "    return output\n",
    "\n",
    "# Neural network function which outputs prediction given inputs and weights\n",
    "def neural_network(input, weights):\n",
    "    prediction = vec_mat_mul(input, weights)\n",
    "    return prediction\n",
    "\n",
    "prediction = neural_network(input, weights)\n",
    "print(\"Prediction: {}\".format(prediction))\n"
   ]
  },
  {
   "cell_type": "markdown",
   "metadata": {
    "ein.tags": "worksheet-0",
    "slideshow": {
     "slide_type": "-"
    }
   },
   "source": [
    "## Conclusion\n",
    "\n",
    "In this chapter of the book, I have learn how simple functions such as getting the dot product of an input to the weights of a network will\n",
    "return a weighted sum (activation for a specific node). Chaining these together shows how networks can do more advanced operations and\n",
    "output better predictions.\n",
    "\n",
    "Vectorisation has also been highlighted as a very important operation which optimises propagation performance across the network.\n",
    "\n",
    "In the next chapter of the book, I will learn how to initialise weights in order to get more effective prediction by our network."
   ]
  }
 ],
 "metadata": {
  "kernelspec": {
   "display_name": "Python 3",
   "name": "python3"
  },
  "name": "Chapter3-ForwardPropagation.ipynb"
 },
 "nbformat": 4,
 "nbformat_minor": 2
}
